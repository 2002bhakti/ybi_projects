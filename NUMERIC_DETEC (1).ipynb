{
  "nbformat": 4,
  "nbformat_minor": 0,
  "metadata": {
    "colab": {
      "provenance": []
    },
    "kernelspec": {
      "name": "python3",
      "display_name": "Python 3"
    },
    "language_info": {
      "name": "python"
    }
  },
  "cells": [
    {
      "cell_type": "markdown",
      "source": [
        "# HAND WRITTEN DIGIT PREDICTION -  CLASSIFICATION ANALYSIS"
      ],
      "metadata": {
        "id": "oN0WyxnBP577"
      }
    },
    {
      "cell_type": "markdown",
      "source": [
        "This project aims to recognize handwritten digits using machine learning techniques. The dataset used for this project is the MNIST dataset, a popular benchmark dataset in the field of machine learning. The goal is to train a model that can accurately classify handwritten digits from 0 to 9."
      ],
      "metadata": {
        "id": "kxa8QfYtPsQ1"
      }
    },
    {
      "cell_type": "markdown",
      "source": [
        "### IMPORT LIBRARY"
      ],
      "metadata": {
        "id": "QB4Ytk9NPREH"
      }
    },
    {
      "cell_type": "code",
      "execution_count": null,
      "metadata": {
        "id": "rBZciQHQlfef"
      },
      "outputs": [],
      "source": [
        "import pandas as pd\n",
        "import numpy as np\n",
        "import matplotlib.pyplot as plt\n"
      ]
    },
    {
      "cell_type": "code",
      "source": [
        "from sklearn.datasets import load_digits"
      ],
      "metadata": {
        "id": "5pzRMBsxmsbn"
      },
      "execution_count": null,
      "outputs": []
    },
    {
      "cell_type": "markdown",
      "source": [
        "### LOAD DATASET"
      ],
      "metadata": {
        "id": "Lc1hgGCZPWSc"
      }
    },
    {
      "cell_type": "code",
      "source": [
        "df=load_digits()"
      ],
      "metadata": {
        "id": "JJmxfyz-mw7J"
      },
      "execution_count": null,
      "outputs": []
    },
    {
      "cell_type": "code",
      "source": [
        " _, axes=plt.subplots(nrows=1,ncols=4,figsize=(10,3))\n",
        " for ax,image,label in zip(axes,df.images,df.target):\n",
        "     ax.set_axis_off()\n",
        "     ax.imshow(image,cmap=plt.cm.gray_r,interpolation=\"nearest\")\n",
        "     ax.set_title(\"Training: %i\" % label)"
      ],
      "metadata": {
        "colab": {
          "base_uri": "https://localhost:8080/",
          "height": 187
        },
        "id": "HGd2G3_TmzJW",
        "outputId": "be1c44c6-c63a-4916-90f6-3c77fc2bffde"
      },
      "execution_count": null,
      "outputs": [
        {
          "output_type": "display_data",
          "data": {
            "text/plain": [
              "<Figure size 1000x300 with 4 Axes>"
            ],
            "image/png": "[encoded data removed]"
          },
          "metadata": {}
        }
      ]
    },
    {
      "cell_type": "markdown",
      "source": [
        "### DATA PREPROCESSING"
      ],
      "metadata": {
        "id": "EqdEySOFQRR1"
      }
    },
    {
      "cell_type": "code",
      "source": [
        "#data preprocessing\n",
        "df.images.shape"
      ],
      "metadata": {
        "colab": {
          "base_uri": "https://localhost:8080/"
        },
        "id": "O4Y5ujnyoMIt",
        "outputId": "3c0b4bc3-c655-45f0-e428-46e765b33fc6"
      },
      "execution_count": null,
      "outputs": [
        {
          "output_type": "execute_result",
          "data": {
            "text/plain": [
              "(1797, 8, 8)"
            ]
          },
          "metadata": {},
          "execution_count": 13
        }
      ]
    },
    {
      "cell_type": "code",
      "source": [
        "df.images[0]"
      ],
      "metadata": {
        "colab": {
          "base_uri": "https://localhost:8080/"
        },
        "id": "L6RplaXdoUC5",
        "outputId": "1c878a8e-d68f-4d3a-c8b3-63cb56a6ecb7"
      },
      "execution_count": null,
      "outputs": [
        {
          "output_type": "execute_result",
          "data": {
            "text/plain": [
              "array([[ 0.,  0.,  5., 13.,  9.,  1.,  0.,  0.],\n",
              "       [ 0.,  0., 13., 15., 10., 15.,  5.,  0.],\n",
              "       [ 0.,  3., 15.,  2.,  0., 11.,  8.,  0.],\n",
              "       [ 0.,  4., 12.,  0.,  0.,  8.,  8.,  0.],\n",
              "       [ 0.,  5.,  8.,  0.,  0.,  9.,  8.,  0.],\n",
              "       [ 0.,  4., 11.,  0.,  1., 12.,  7.,  0.],\n",
              "       [ 0.,  2., 14.,  5., 10., 12.,  0.,  0.],\n",
              "       [ 0.,  0.,  6., 13., 10.,  0.,  0.,  0.]])"
            ]
          },
          "metadata": {},
          "execution_count": 14
        }
      ]
    },
    {
      "cell_type": "code",
      "source": [
        "df.images[0].shape"
      ],
      "metadata": {
        "colab": {
          "base_uri": "https://localhost:8080/"
        },
        "id": "gSrA6U9LoWHC",
        "outputId": "7d4b2d27-4686-40a0-97af-d7b863c9ae54"
      },
      "execution_count": null,
      "outputs": [
        {
          "output_type": "execute_result",
          "data": {
            "text/plain": [
              "(8, 8)"
            ]
          },
          "metadata": {},
          "execution_count": 15
        }
      ]
    },
    {
      "cell_type": "code",
      "source": [
        "len(df.images)"
      ],
      "metadata": {
        "colab": {
          "base_uri": "https://localhost:8080/"
        },
        "id": "K7a2EPaNoa-4",
        "outputId": "01b87b05-fed9-4b14-ee86-e5530076f3d5"
      },
      "execution_count": null,
      "outputs": [
        {
          "output_type": "execute_result",
          "data": {
            "text/plain": [
              "1797"
            ]
          },
          "metadata": {},
          "execution_count": 16
        }
      ]
    },
    {
      "cell_type": "code",
      "source": [
        "n_samples=len(df.images)\n",
        "data=df.images.reshape((n_samples,-1))"
      ],
      "metadata": {
        "id": "WAi2lI6ToeZT"
      },
      "execution_count": null,
      "outputs": []
    },
    {
      "cell_type": "code",
      "source": [
        "data[0].shape"
      ],
      "metadata": {
        "colab": {
          "base_uri": "https://localhost:8080/"
        },
        "id": "zA0IPXvEom30",
        "outputId": "aed6c318-bce5-47f6-ce9f-ffcdb42d4826"
      },
      "execution_count": null,
      "outputs": [
        {
          "output_type": "execute_result",
          "data": {
            "text/plain": [
              "(64,)"
            ]
          },
          "metadata": {},
          "execution_count": 18
        }
      ]
    },
    {
      "cell_type": "markdown",
      "source": [
        "### SCALING IMAGE DATA"
      ],
      "metadata": {
        "id": "CJTCcXZrQdvB"
      }
    },
    {
      "cell_type": "code",
      "source": [
        "data.shape"
      ],
      "metadata": {
        "colab": {
          "base_uri": "https://localhost:8080/"
        },
        "id": "PuikAdHToqSX",
        "outputId": "9a72eb90-0c30-4357-c37d-29fe595c8261"
      },
      "execution_count": null,
      "outputs": [
        {
          "output_type": "execute_result",
          "data": {
            "text/plain": [
              "(1797, 64)"
            ]
          },
          "metadata": {},
          "execution_count": 19
        }
      ]
    },
    {
      "cell_type": "code",
      "source": [
        "data.min()"
      ],
      "metadata": {
        "colab": {
          "base_uri": "https://localhost:8080/"
        },
        "id": "z3KQ-M-MouKV",
        "outputId": "ac7fa85e-a302-4fc5-e319-a508ab54d74d"
      },
      "execution_count": null,
      "outputs": [
        {
          "output_type": "execute_result",
          "data": {
            "text/plain": [
              "0.0"
            ]
          },
          "metadata": {},
          "execution_count": 20
        }
      ]
    },
    {
      "cell_type": "code",
      "source": [
        "data.max()"
      ],
      "metadata": {
        "colab": {
          "base_uri": "https://localhost:8080/"
        },
        "id": "nqiBSlZho2-a",
        "outputId": "0b9a2da5-60f7-49b0-97d7-a032717064b1"
      },
      "execution_count": null,
      "outputs": [
        {
          "output_type": "execute_result",
          "data": {
            "text/plain": [
              "16.0"
            ]
          },
          "metadata": {},
          "execution_count": 21
        }
      ]
    },
    {
      "cell_type": "code",
      "source": [
        "data=data/16"
      ],
      "metadata": {
        "id": "4FFhSls1o4l-"
      },
      "execution_count": null,
      "outputs": []
    },
    {
      "cell_type": "code",
      "source": [
        "data.min()"
      ],
      "metadata": {
        "colab": {
          "base_uri": "https://localhost:8080/"
        },
        "id": "thpH8fwso62H",
        "outputId": "c1ffac6d-ba76-4266-d726-8ced47375dc2"
      },
      "execution_count": null,
      "outputs": [
        {
          "output_type": "execute_result",
          "data": {
            "text/plain": [
              "0.0"
            ]
          },
          "metadata": {},
          "execution_count": 23
        }
      ]
    },
    {
      "cell_type": "code",
      "source": [
        "data.max()"
      ],
      "metadata": {
        "colab": {
          "base_uri": "https://localhost:8080/"
        },
        "id": "ipo4hU9Ho-cl",
        "outputId": "1be8edfe-07ff-41df-ef5c-27a11888b494"
      },
      "execution_count": null,
      "outputs": [
        {
          "output_type": "execute_result",
          "data": {
            "text/plain": [
              "1.0"
            ]
          },
          "metadata": {},
          "execution_count": 24
        }
      ]
    },
    {
      "cell_type": "markdown",
      "source": [
        "### TRAIN TEST SPLIT DATA"
      ],
      "metadata": {
        "id": "gYlhOzKxQokS"
      }
    },
    {
      "cell_type": "code",
      "source": [
        "from sklearn.model_selection import train_test_split\n",
        "X_train,X_test,y_train,y_test=train_test_split(data,df.target,test_size=0.3)"
      ],
      "metadata": {
        "id": "HQbASLmkpDF1"
      },
      "execution_count": null,
      "outputs": []
    },
    {
      "cell_type": "code",
      "source": [
        "X_train.shape,X_test.shape,y_train.shape,y_test.shape"
      ],
      "metadata": {
        "colab": {
          "base_uri": "https://localhost:8080/"
        },
        "id": "kOHSb1AypQsF",
        "outputId": "020db970-26d4-41f6-e743-985a29a631d9"
      },
      "execution_count": null,
      "outputs": [
        {
          "output_type": "execute_result",
          "data": {
            "text/plain": [
              "((1257, 64), (540, 64), (1257,), (540,))"
            ]
          },
          "metadata": {},
          "execution_count": 26
        }
      ]
    },
    {
      "cell_type": "markdown",
      "source": [
        "### RANDOM FOREST MODEL"
      ],
      "metadata": {
        "id": "WLWcQBSyQtCh"
      }
    },
    {
      "cell_type": "code",
      "source": [
        "from sklearn.ensemble import RandomForestClassifier"
      ],
      "metadata": {
        "id": "EEwLYmpopXNj"
      },
      "execution_count": null,
      "outputs": []
    },
    {
      "cell_type": "code",
      "source": [
        "rf=RandomForestClassifier()"
      ],
      "metadata": {
        "id": "kXeizwLjpfQ4"
      },
      "execution_count": null,
      "outputs": []
    },
    {
      "cell_type": "code",
      "source": [
        "rf.fit(X_train,y_train)"
      ],
      "metadata": {
        "colab": {
          "base_uri": "https://localhost:8080/",
          "height": 74
        },
        "id": "ogv9y4j1piWf",
        "outputId": "98fabb58-7026-4694-a526-96c712e81720"
      },
      "execution_count": null,
      "outputs": [
        {
          "output_type": "execute_result",
          "data": {
            "text/plain": [
              "RandomForestClassifier()"
            ],
            "text/html": [
              "<style>#sk-container-id-1 {color: black;background-color: white;}#sk-container-id-1 pre{padding: 0;}#sk-container-id-1 div.sk-toggleable {background-color: white;}#sk-container-id-1 label.sk-toggleable__label {cursor: pointer;display: block;width: 100%;margin-bottom: 0;padding: 0.3em;box-sizing: border-box;text-align: center;}#sk-container-id-1 label.sk-toggleable__label-arrow:before {content: \"▸\";float: left;margin-right: 0.25em;color: #696969;}#sk-container-id-1 label.sk-toggleable__label-arrow:hover:before {color: black;}#sk-container-id-1 div.sk-estimator:hover label.sk-toggleable__label-arrow:before {color: black;}#sk-container-id-1 div.sk-toggleable__content {max-height: 0;max-width: 0;overflow: hidden;text-align: left;background-color: #f0f8ff;}#sk-container-id-1 div.sk-toggleable__content pre {margin: 0.2em;color: black;border-radius: 0.25em;background-color: #f0f8ff;}#sk-container-id-1 input.sk-toggleable__control:checked~div.sk-toggleable__content {max-height: 200px;max-width: 100%;overflow: auto;}#sk-container-id-1 input.sk-toggleable__control:checked~label.sk-toggleable__label-arrow:before {content: \"▾\";}#sk-container-id-1 div.sk-estimator input.sk-toggleable__control:checked~label.sk-toggleable__label {background-color: #d4ebff;}#sk-container-id-1 div.sk-label input.sk-toggleable__control:checked~label.sk-toggleable__label {background-color: #d4ebff;}#sk-container-id-1 input.sk-hidden--visually {border: 0;clip: rect(1px 1px 1px 1px);clip: rect(1px, 1px, 1px, 1px);height: 1px;margin: -1px;overflow: hidden;padding: 0;position: absolute;width: 1px;}#sk-container-id-1 div.sk-estimator {font-family: monospace;background-color: #f0f8ff;border: 1px dotted black;border-radius: 0.25em;box-sizing: border-box;margin-bottom: 0.5em;}#sk-container-id-1 div.sk-estimator:hover {background-color: #d4ebff;}#sk-container-id-1 div.sk-parallel-item::after {content: \"\";width: 100%;border-bottom: 1px solid gray;flex-grow: 1;}#sk-container-id-1 div.sk-label:hover label.sk-toggleable__label {background-color: #d4ebff;}#sk-container-id-1 div.sk-serial::before {content: \"\";position: absolute;border-left: 1px solid gray;box-sizing: border-box;top: 0;bottom: 0;left: 50%;z-index: 0;}#sk-container-id-1 div.sk-serial {display: flex;flex-direction: column;align-items: center;background-color: white;padding-right: 0.2em;padding-left: 0.2em;position: relative;}#sk-container-id-1 div.sk-item {position: relative;z-index: 1;}#sk-container-id-1 div.sk-parallel {display: flex;align-items: stretch;justify-content: center;background-color: white;position: relative;}#sk-container-id-1 div.sk-item::before, #sk-container-id-1 div.sk-parallel-item::before {content: \"\";position: absolute;border-left: 1px solid gray;box-sizing: border-box;top: 0;bottom: 0;left: 50%;z-index: -1;}#sk-container-id-1 div.sk-parallel-item {display: flex;flex-direction: column;z-index: 1;position: relative;background-color: white;}#sk-container-id-1 div.sk-parallel-item:first-child::after {align-self: flex-end;width: 50%;}#sk-container-id-1 div.sk-parallel-item:last-child::after {align-self: flex-start;width: 50%;}#sk-container-id-1 div.sk-parallel-item:only-child::after {width: 0;}#sk-container-id-1 div.sk-dashed-wrapped {border: 1px dashed gray;margin: 0 0.4em 0.5em 0.4em;box-sizing: border-box;padding-bottom: 0.4em;background-color: white;}#sk-container-id-1 div.sk-label label {font-family: monospace;font-weight: bold;display: inline-block;line-height: 1.2em;}#sk-container-id-1 div.sk-label-container {text-align: center;}#sk-container-id-1 div.sk-container {/* jupyter's `normalize.less` sets `[hidden] { display: none; }` but bootstrap.min.css set `[hidden] { display: none !important; }` so we also need the `!important` here to be able to override the default hidden behavior on the sphinx rendered scikit-learn.org. See: https://github.com/scikit-learn/scikit-learn/issues/21755 */display: inline-block !important;position: relative;}#sk-container-id-1 div.sk-text-repr-fallback {display: none;}</style><div id=\"sk-container-id-1\" class=\"sk-top-container\"><div class=\"sk-text-repr-fallback\"><pre>RandomForestClassifier()</pre><b>In a Jupyter environment, please rerun this cell to show the HTML representation or trust the notebook. <br />On GitHub, the HTML representation is unable to render, please try loading this page with nbviewer.org.</b></div><div class=\"sk-container\" hidden><div class=\"sk-item\"><div class=\"sk-estimator sk-toggleable\"><input class=\"sk-toggleable__control sk-hidden--visually\" id=\"sk-estimator-id-1\" type=\"checkbox\" checked><label for=\"sk-estimator-id-1\" class=\"sk-toggleable__label sk-toggleable__label-arrow\">RandomForestClassifier</label><div class=\"sk-toggleable__content\"><pre>RandomForestClassifier()</pre></div></div></div></div></div>"
            ]
          },
          "metadata": {},
          "execution_count": 29
        }
      ]
    },
    {
      "cell_type": "markdown",
      "source": [
        "### PREDICT TEST DATA"
      ],
      "metadata": {
        "id": "UzEkBhW-QwqR"
      }
    },
    {
      "cell_type": "code",
      "source": [
        "y_pred=rf.predict(X_test)"
      ],
      "metadata": {
        "id": "4pPwq-s1pngc"
      },
      "execution_count": null,
      "outputs": []
    },
    {
      "cell_type": "code",
      "source": [
        "y_pred"
      ],
      "metadata": {
        "colab": {
          "base_uri": "https://localhost:8080/"
        },
        "id": "HE52qcJBprAz",
        "outputId": "3265687d-f86f-45f0-c87f-7413044165ee"
      },
      "execution_count": null,
      "outputs": [
        {
          "output_type": "execute_result",
          "data": {
            "text/plain": [
              "array([4, 7, 1, 2, 8, 2, 4, 6, 8, 4, 2, 6, 1, 4, 4, 2, 1, 8, 2, 7, 3, 4,\n",
              "       8, 6, 6, 9, 9, 8, 5, 5, 9, 0, 0, 2, 2, 3, 5, 8, 1, 0, 8, 8, 3, 7,\n",
              "       1, 9, 6, 9, 1, 1, 3, 7, 1, 5, 7, 9, 8, 9, 0, 4, 5, 1, 0, 3, 2, 4,\n",
              "       4, 0, 0, 0, 7, 3, 4, 2, 6, 2, 4, 6, 7, 8, 8, 1, 5, 4, 3, 6, 2, 7,\n",
              "       7, 6, 6, 1, 7, 1, 8, 1, 1, 4, 3, 1, 4, 6, 7, 5, 5, 6, 6, 5, 9, 0,\n",
              "       4, 4, 9, 1, 4, 1, 4, 9, 1, 3, 5, 1, 0, 2, 0, 3, 2, 2, 6, 4, 3, 6,\n",
              "       8, 5, 4, 2, 9, 8, 8, 2, 5, 1, 6, 6, 8, 0, 6, 0, 4, 5, 0, 5, 5, 6,\n",
              "       0, 5, 6, 4, 0, 0, 9, 1, 2, 1, 7, 9, 4, 2, 1, 0, 0, 3, 7, 1, 8, 8,\n",
              "       4, 7, 1, 5, 4, 3, 0, 7, 7, 7, 5, 2, 7, 9, 0, 8, 7, 2, 6, 4, 1, 2,\n",
              "       8, 2, 0, 0, 7, 8, 7, 6, 5, 9, 1, 1, 6, 7, 0, 9, 7, 8, 2, 7, 7, 7,\n",
              "       2, 9, 9, 2, 0, 3, 3, 8, 6, 6, 9, 6, 0, 1, 0, 9, 3, 2, 7, 0, 2, 9,\n",
              "       2, 8, 6, 2, 7, 3, 9, 3, 9, 4, 2, 5, 7, 5, 0, 2, 5, 4, 7, 8, 0, 7,\n",
              "       4, 8, 0, 0, 7, 4, 2, 6, 7, 9, 9, 6, 4, 1, 7, 6, 1, 6, 5, 3, 0, 0,\n",
              "       9, 4, 0, 8, 2, 8, 9, 8, 3, 7, 6, 0, 2, 6, 9, 3, 7, 8, 2, 7, 2, 1,\n",
              "       5, 1, 4, 5, 0, 0, 2, 6, 0, 8, 4, 1, 2, 3, 1, 0, 8, 4, 9, 2, 3, 3,\n",
              "       8, 8, 9, 2, 5, 8, 9, 5, 7, 7, 0, 9, 6, 6, 3, 5, 9, 0, 3, 0, 6, 5,\n",
              "       8, 8, 1, 4, 1, 2, 8, 1, 1, 6, 5, 8, 4, 5, 3, 2, 5, 1, 1, 5, 7, 9,\n",
              "       4, 8, 0, 7, 1, 3, 8, 5, 3, 6, 7, 6, 5, 0, 5, 8, 5, 9, 0, 2, 7, 1,\n",
              "       2, 1, 5, 7, 6, 0, 1, 4, 8, 7, 5, 6, 8, 4, 4, 3, 8, 2, 3, 5, 8, 8,\n",
              "       6, 9, 4, 2, 7, 7, 8, 9, 0, 0, 4, 3, 7, 9, 4, 5, 7, 2, 6, 5, 5, 5,\n",
              "       0, 9, 9, 3, 6, 2, 3, 2, 4, 9, 6, 2, 6, 0, 5, 6, 9, 1, 9, 3, 0, 2,\n",
              "       9, 2, 1, 2, 4, 7, 4, 1, 6, 7, 9, 9, 5, 6, 0, 1, 6, 6, 3, 7, 5, 0,\n",
              "       1, 0, 5, 7, 0, 6, 2, 9, 2, 1, 0, 2, 7, 5, 7, 2, 8, 4, 5, 7, 0, 0,\n",
              "       2, 5, 8, 8, 5, 6, 1, 4, 9, 8, 6, 3, 9, 9, 2, 0, 2, 3, 3, 0, 3, 0,\n",
              "       4, 4, 3, 6, 2, 3, 9, 0, 1, 1, 6, 3])"
            ]
          },
          "metadata": {},
          "execution_count": 31
        }
      ]
    },
    {
      "cell_type": "markdown",
      "source": [
        "### MODEL ACCURACY"
      ],
      "metadata": {
        "id": "Lc0866NdQ3YI"
      }
    },
    {
      "cell_type": "code",
      "source": [
        "from sklearn.metrics import confusion_matrix,classification_report\n",
        "import seaborn as sns\n",
        "cm=confusion_matrix(y_test,y_pred)\n",
        "sns.heatmap(cm,\n",
        "            annot=True,\n",
        "            fmt='g')\n",
        "plt.ylabel('Prediction',fontsize=13)\n",
        "plt.xlabel('Actual',fontsize=13)\n",
        "plt.title('Confusion Matrix',fontsize=17)\n",
        "plt.show()"
      ],
      "metadata": {
        "colab": {
          "base_uri": "https://localhost:8080/",
          "height": 481
        },
        "id": "F154mzkDqBp1",
        "outputId": "c00512dd-7ffd-4fc3-8732-10f05edd5a62"
      },
      "execution_count": null,
      "outputs": [
        {
          "output_type": "display_data",
          "data": {
            "text/plain": [
              "<Figure size 640x480 with 2 Axes>"
            ],
            "image/png": "[encoded data removed]"
          },
          "metadata": {}
        }
      ]
    },
    {
      "cell_type": "code",
      "source": [
        "print(classification_report(y_test,y_pred))"
      ],
      "metadata": {
        "colab": {
          "base_uri": "https://localhost:8080/"
        },
        "id": "FMV2qm_PqNLH",
        "outputId": "112f02cc-eeed-4429-abd3-59883d9f3e9e"
      },
      "execution_count": null,
      "outputs": [
        {
          "output_type": "stream",
          "name": "stdout",
          "text": [
            "              precision    recall  f1-score   support\n",
            "\n",
            "           0       0.98      0.98      0.98        63\n",
            "           1       0.94      1.00      0.97        51\n",
            "           2       0.98      0.97      0.98        62\n",
            "           3       0.95      0.93      0.94        44\n",
            "           4       0.98      0.96      0.97        52\n",
            "           5       0.96      0.94      0.95        53\n",
            "           6       1.00      1.00      1.00        57\n",
            "           7       0.96      0.98      0.97        55\n",
            "           8       0.96      0.89      0.93        56\n",
            "           9       0.90      0.98      0.94        47\n",
            "\n",
            "    accuracy                           0.96       540\n",
            "   macro avg       0.96      0.96      0.96       540\n",
            "weighted avg       0.97      0.96      0.96       540\n",
            "\n"
          ]
        }
      ]
    },
    {
      "cell_type": "markdown",
      "source": [
        "**Explaination:**\n",
        "Prediction Results: Shows what the model predicted for each digit image in the test dataset.\n",
        "\n",
        "Accuracy Metrics: Measures how well the model performed overall, usually with metrics like accuracy, precision, recall, and F1-score.\n",
        "\n",
        "Confusion Matrix: A table visualizing the model's performance, highlighting where it made mistakes in classifying digits.\n",
        "\n",
        "Visualization of Predictions: Optional visuals of digit images with their predicted labels for a quick glance at the model's performance.\n",
        "\n",
        "Model Explanation: Simple insights into how the model made its predictions, highlighting important features or pixels.\n",
        "\n",
        "Error Analysis: Highlights specific cases where the model struggled to classify digits, helping identify areas for improvement.\n",
        "\n",
        "This concise explanation output provides a clear summary of the model's performance and areas for further analysis or refinement.*italicized text*"
      ],
      "metadata": {
        "id": "4rd-qromRI-N"
      }
    }
  ]
}